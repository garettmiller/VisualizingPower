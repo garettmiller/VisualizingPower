{
 "cells": [
  {
   "cell_type": "code",
   "execution_count": 163,
   "id": "60ed100f",
   "metadata": {},
   "outputs": [],
   "source": [
    "import altair as alt\n",
    "from altair_saver import save\n",
    "import importlib\n",
    "import Sipri\n",
    "from vega_datasets import data\n",
    "\n",
    "importlib.reload(Sipri)\n",
    "sipri = Sipri.Sipri(\"C:/Users/mille/PycharmProjects/VisualizingPower/venv/Include/SIPRI-Milex-data-1949-2020_0.xlsx\")\n",
    "\n",
    "meaningful_world = list(range(1992, 2021))\n",
    "\n",
    "# labels = sipri.get_labels_from_dict({1950: \"Korean War starts\",\n",
    "#                            1953: \"Korean War ends\",\n",
    "#                            1955: \"Vietnam War starts\",\n",
    "#                            1975: \"Vietnam War ends\",\n",
    "#                            1990: \"Gulf War\",\n",
    "#                            2001: \"Invasion of Afghanistan starts\",\n",
    "#                            2003: \"Iraq War starts\",\n",
    "#                            2011: \"Iraq War ends\"}, list(range(1950, 2021)))\n",
    "#sipri.budget_line_chart([\"USA\"], list(range(1950, 2021, 5)), labels)"
   ]
  },
  {
   "cell_type": "code",
   "execution_count": 25,
   "id": "ede3f182",
   "metadata": {
    "scrolled": true
   },
   "outputs": [],
   "source": [
    "#sipri.budget_line_chart([\"USA\", \"China\", \"Russia\", \"Iran\"], meaningful_world[::5])"
   ]
  },
  {
   "cell_type": "code",
   "execution_count": 165,
   "id": "2d80580f",
   "metadata": {},
   "outputs": [
    {
     "data": {
      "text/html": [
       "\n",
       "<div id=\"altair-viz-12e01c0ae89b4ffbae4dd6994cb9d571\"></div>\n",
       "<script type=\"text/javascript\">\n",
       "  (function(spec, embedOpt){\n",
       "    let outputDiv = document.currentScript.previousElementSibling;\n",
       "    if (outputDiv.id !== \"altair-viz-12e01c0ae89b4ffbae4dd6994cb9d571\") {\n",
       "      outputDiv = document.getElementById(\"altair-viz-12e01c0ae89b4ffbae4dd6994cb9d571\");\n",
       "    }\n",
       "    const paths = {\n",
       "      \"vega\": \"https://cdn.jsdelivr.net/npm//vega@5?noext\",\n",
       "      \"vega-lib\": \"https://cdn.jsdelivr.net/npm//vega-lib?noext\",\n",
       "      \"vega-lite\": \"https://cdn.jsdelivr.net/npm//vega-lite@4.8.1?noext\",\n",
       "      \"vega-embed\": \"https://cdn.jsdelivr.net/npm//vega-embed@6?noext\",\n",
       "    };\n",
       "\n",
       "    function loadScript(lib) {\n",
       "      return new Promise(function(resolve, reject) {\n",
       "        var s = document.createElement('script');\n",
       "        s.src = paths[lib];\n",
       "        s.async = true;\n",
       "        s.onload = () => resolve(paths[lib]);\n",
       "        s.onerror = () => reject(`Error loading script: ${paths[lib]}`);\n",
       "        document.getElementsByTagName(\"head\")[0].appendChild(s);\n",
       "      });\n",
       "    }\n",
       "\n",
       "    function showError(err) {\n",
       "      outputDiv.innerHTML = `<div class=\"error\" style=\"color:red;\">${err}</div>`;\n",
       "      throw err;\n",
       "    }\n",
       "\n",
       "    function displayChart(vegaEmbed) {\n",
       "      vegaEmbed(outputDiv, spec, embedOpt)\n",
       "        .catch(err => showError(`Javascript Error: ${err.message}<br>This usually means there's a typo in your chart specification. See the javascript console for the full traceback.`));\n",
       "    }\n",
       "\n",
       "    if(typeof define === \"function\" && define.amd) {\n",
       "      requirejs.config({paths});\n",
       "      require([\"vega-embed\"], displayChart, err => showError(`Error loading script: ${err.message}`));\n",
       "    } else if (typeof vegaEmbed === \"function\") {\n",
       "      displayChart(vegaEmbed);\n",
       "    } else {\n",
       "      loadScript(\"vega\")\n",
       "        .then(() => loadScript(\"vega-lite\"))\n",
       "        .then(() => loadScript(\"vega-embed\"))\n",
       "        .catch(showError)\n",
       "        .then(() => displayChart(vegaEmbed));\n",
       "    }\n",
       "  })({\"config\": {\"view\": {\"continuousWidth\": 400, \"continuousHeight\": 300}}, \"data\": {\"name\": \"data-44fce724dbce77e8bc6c69152e0ae5af\"}, \"mark\": \"bar\", \"encoding\": {\"x\": {\"type\": \"nominal\", \"field\": \"Country\"}, \"y\": {\"type\": \"quantitative\", \"aggregate\": \"sum\", \"field\": \"Budget\"}}, \"height\": 500, \"width\": 500, \"$schema\": \"https://vega.github.io/schema/vega-lite/v4.8.1.json\", \"datasets\": {\"data-44fce724dbce77e8bc6c69152e0ae5af\": [{\"Year\": 1992, \"Country\": \"USA\", \"Budget\": 592212.3403407995}, {\"Year\": 1993, \"Country\": \"USA\", \"Budget\": 560519.237191198}, {\"Year\": 1994, \"Country\": \"USA\", \"Budget\": 531381.2718598398}, {\"Year\": 1995, \"Country\": \"USA\", \"Budget\": 496360.3106887305}, {\"Year\": 1996, \"Country\": \"USA\", \"Budget\": 469361.0497676982}, {\"Year\": 1997, \"Country\": \"USA\", \"Budget\": 466933.0017121977}, {\"Year\": 1998, \"Country\": \"USA\", \"Budget\": 456389.54882113717}, {\"Year\": 1999, \"Country\": \"USA\", \"Budget\": 457512.6509801381}, {\"Year\": 2000, \"Country\": \"USA\", \"Budget\": 475217.4376199953}, {\"Year\": 2001, \"Country\": \"USA\", \"Budget\": 479076.98739295034}, {\"Year\": 2002, \"Country\": \"USA\", \"Budget\": 537911.9297143301}, {\"Year\": 2003, \"Country\": \"USA\", \"Budget\": 612232.6117466411}, {\"Year\": 2004, \"Country\": \"USA\", \"Budget\": 667284.6391627429}, {\"Year\": 2005, \"Country\": \"USA\", \"Budget\": 698019.0392434379}, {\"Year\": 2006, \"Country\": \"USA\", \"Budget\": 708077.3034661642}, {\"Year\": 2007, \"Country\": \"USA\", \"Budget\": 726971.5289619542}, {\"Year\": 2008, \"Country\": \"USA\", \"Budget\": 779854.1231074096}, {\"Year\": 2009, \"Country\": \"USA\", \"Budget\": 841220.472930465}, {\"Year\": 2010, \"Country\": \"USA\", \"Budget\": 865268.0248243364}, {\"Year\": 2011, \"Country\": \"USA\", \"Budget\": 855022.3134521549}, {\"Year\": 2012, \"Country\": \"USA\", \"Budget\": 807530.2671147302}, {\"Year\": 2013, \"Country\": \"USA\", \"Budget\": 745415.975253309}, {\"Year\": 2014, \"Country\": \"USA\", \"Budget\": 699563.8419636593}, {\"Year\": 2015, \"Country\": \"USA\", \"Budget\": 683677.7451132468}, {\"Year\": 2016, \"Country\": \"USA\", \"Budget\": 681579.8358308816}, {\"Year\": 2017, \"Country\": \"USA\", \"Budget\": 674557.2111779092}, {\"Year\": 2018, \"Country\": \"USA\", \"Budget\": 694859.5779135808}, {\"Year\": 2019, \"Country\": \"USA\", \"Budget\": 734344.1}, {\"Year\": 2020, \"Country\": \"USA\", \"Budget\": 766582.8253583318}, {\"Year\": 1992, \"Country\": \"China\", \"Budget\": 27509.248537026713}, {\"Year\": 1993, \"Country\": \"China\", \"Budget\": 25297.17157833796}, {\"Year\": 1994, \"Country\": \"China\", \"Budget\": 24340.877296472736}, {\"Year\": 1995, \"Country\": \"China\", \"Budget\": 25281.779939761363}, {\"Year\": 1996, \"Country\": \"China\", \"Budget\": 26783.868520016902}, {\"Year\": 1997, \"Country\": \"China\", \"Budget\": 28573.46756000466}, {\"Year\": 1998, \"Country\": \"China\", \"Budget\": 31198.692285126905}, {\"Year\": 1999, \"Country\": \"China\", \"Budget\": 38033.787436153405}, {\"Year\": 2000, \"Country\": \"China\", \"Budget\": 41167.343480085474}, {\"Year\": 2001, \"Country\": \"China\", \"Budget\": 48813.38224116756}, {\"Year\": 2002, \"Country\": \"China\", \"Budget\": 56064.353977635656}, {\"Year\": 2003, \"Country\": \"China\", \"Budget\": 60675.19388877234}, {\"Year\": 2004, \"Country\": \"China\", \"Budget\": 66832.05640737858}, {\"Year\": 2005, \"Country\": \"China\", \"Budget\": 73390.24710684383}, {\"Year\": 2006, \"Country\": \"China\", \"Budget\": 84476.95198853854}, {\"Year\": 2007, \"Country\": \"China\", \"Budget\": 92862.20569427637}, {\"Year\": 2008, \"Country\": \"China\", \"Budget\": 101601.43825131436}, {\"Year\": 2009, \"Country\": \"China\", \"Budget\": 123287.19319660109}, {\"Year\": 2010, \"Country\": \"China\", \"Budget\": 129359.45309853961}, {\"Year\": 2011, \"Country\": \"China\", \"Budget\": 138869.45336672475}, {\"Year\": 2012, \"Country\": \"China\", \"Budget\": 153137.6437969958}, {\"Year\": 2013, \"Country\": \"China\", \"Budget\": 165588.73201537857}, {\"Year\": 2014, \"Country\": \"China\", \"Budget\": 178806.15202035866}, {\"Year\": 2015, \"Country\": \"China\", \"Budget\": 192843.12521112722}, {\"Year\": 2016, \"Country\": \"China\", \"Budget\": 203944.2164170579}, {\"Year\": 2017, \"Country\": \"China\", \"Budget\": 216487.09994236715}, {\"Year\": 2018, \"Country\": \"China\", \"Budget\": 229168.10015550413}, {\"Year\": 2019, \"Country\": \"China\", \"Budget\": 240332.55545815144}, {\"Year\": 2020, \"Country\": \"China\", \"Budget\": 244933.50953494365}, {\"Year\": 1992, \"Country\": \"Pakistan\", \"Budget\": 4683.249153685715}, {\"Year\": 1993, \"Country\": \"Pakistan\", \"Budget\": 4659.316444376632}, {\"Year\": 1994, \"Country\": \"Pakistan\", \"Budget\": 4525.45081750691}, {\"Year\": 1995, \"Country\": \"Pakistan\", \"Budget\": 4603.68681123997}, {\"Year\": 1996, \"Country\": \"Pakistan\", \"Budget\": 4602.478014880215}, {\"Year\": 1997, \"Country\": \"Pakistan\", \"Budget\": 4406.814455633477}, {\"Year\": 1998, \"Country\": \"Pakistan\", \"Budget\": 4406.777205585067}, {\"Year\": 1999, \"Country\": \"Pakistan\", \"Budget\": 4450.352020134545}, {\"Year\": 2000, \"Country\": \"Pakistan\", \"Budget\": 4459.882372634122}, {\"Year\": 2001, \"Country\": \"Pakistan\", \"Budget\": 4771.044558236785}, {\"Year\": 2002, \"Country\": \"Pakistan\", \"Budget\": 5130.8325311286135}, {\"Year\": 2003, \"Country\": \"Pakistan\", \"Budget\": 5482.826598380702}, {\"Year\": 2004, \"Country\": \"Pakistan\", \"Budget\": 5708.163951400438}, {\"Year\": 2005, \"Country\": \"Pakistan\", \"Budget\": 5941.078100750017}, {\"Year\": 2006, \"Country\": \"Pakistan\", \"Budget\": 6039.390907114834}, {\"Year\": 2007, \"Country\": \"Pakistan\", \"Budget\": 6081.406778522304}, {\"Year\": 2008, \"Country\": \"Pakistan\", \"Budget\": 5733.524215993819}, {\"Year\": 2009, \"Country\": \"Pakistan\", \"Budget\": 5908.676364753556}, {\"Year\": 2010, \"Country\": \"Pakistan\", \"Budget\": 6178.560092263627}, {\"Year\": 2011, \"Country\": \"Pakistan\", \"Budget\": 6513.133274462012}, {\"Year\": 2012, \"Country\": \"Pakistan\", \"Budget\": 6907.272813216262}, {\"Year\": 2013, \"Country\": \"Pakistan\", \"Budget\": 7134.723477439568}, {\"Year\": 2014, \"Country\": \"Pakistan\", \"Budget\": 7495.81924164531}, {\"Year\": 2015, \"Country\": \"Pakistan\", \"Budget\": 8143.033321803143}, {\"Year\": 2016, \"Country\": \"Pakistan\", \"Budget\": 8415.931158811027}, {\"Year\": 2017, \"Country\": \"Pakistan\", \"Budget\": 9321.008532942535}, {\"Year\": 2018, \"Country\": \"Pakistan\", \"Budget\": 10523.761959227093}, {\"Year\": 2019, \"Country\": \"Pakistan\", \"Budget\": 10388.318164568338}, {\"Year\": 2020, \"Country\": \"Pakistan\", \"Budget\": 10097.221387091247}, {\"Year\": 1992, \"Country\": \"Russia\", \"Budget\": 47153.85002144954}, {\"Year\": 1993, \"Country\": \"Russia\", \"Budget\": 41220.78245279501}, {\"Year\": 1994, \"Country\": \"Russia\", \"Budget\": 38967.75782523476}, {\"Year\": 1995, \"Country\": \"Russia\", \"Budget\": 25639.257970240917}, {\"Year\": 1996, \"Country\": \"Russia\", \"Budget\": 24209.402062587116}, {\"Year\": 1997, \"Country\": \"Russia\", \"Budget\": 26467.425852532975}, {\"Year\": 1998, \"Country\": \"Russia\", \"Budget\": 15739.995703663382}, {\"Year\": 1999, \"Country\": \"Russia\", \"Budget\": 17479.56443718669}, {\"Year\": 2000, \"Country\": \"Russia\", \"Budget\": 23583.969387437228}, {\"Year\": 2001, \"Country\": \"Russia\", \"Budget\": 25487.21268251037}, {\"Year\": 2002, \"Country\": \"Russia\", \"Budget\": 28234.535122929774}, {\"Year\": 2003, \"Country\": \"Russia\", \"Budget\": 29604.95657461264}, {\"Year\": 2004, \"Country\": \"Russia\", \"Budget\": 30943.541776199832}, {\"Year\": 2005, \"Country\": \"Russia\", \"Budget\": 35164.539662654905}, {\"Year\": 2006, \"Country\": \"Russia\", \"Budget\": 38921.808858267024}, {\"Year\": 2007, \"Country\": \"Russia\", \"Budget\": 42366.44294255768}, {\"Year\": 2008, \"Country\": \"Russia\", \"Budget\": 46551.19378391222}, {\"Year\": 2009, \"Country\": \"Russia\", \"Budget\": 48841.027502852994}, {\"Year\": 2010, \"Country\": \"Russia\", \"Budget\": 49833.89678882127}, {\"Year\": 2011, \"Country\": \"Russia\", \"Budget\": 53184.608745734186}, {\"Year\": 2012, \"Country\": \"Russia\", \"Budget\": 61622.41589760639}, {\"Year\": 2013, \"Country\": \"Russia\", \"Budget\": 64625.507317461066}, {\"Year\": 2014, \"Country\": \"Russia\", \"Budget\": 69260.68343653817}, {\"Year\": 2015, \"Country\": \"Russia\", \"Budget\": 74649.04431882432}, {\"Year\": 2016, \"Country\": \"Russia\", \"Budget\": 80026.93131537428}, {\"Year\": 2017, \"Country\": \"Russia\", \"Budget\": 64847.52760327455}, {\"Year\": 2018, \"Country\": \"Russia\", \"Budget\": 62404.221343749625}, {\"Year\": 2019, \"Country\": \"Russia\", \"Budget\": 65201.33584835646}, {\"Year\": 2020, \"Country\": \"Russia\", \"Budget\": 66838.18192645152}, {\"Year\": 1992, \"Country\": \"Iran\", \"Budget\": 3863.910763560933}, {\"Year\": 1993, \"Country\": \"Iran\", \"Budget\": 4524.895194716138}, {\"Year\": 1994, \"Country\": \"Iran\", \"Budget\": 5584.448046121422}, {\"Year\": 1995, \"Country\": \"Iran\", \"Budget\": 5478.128798179164}, {\"Year\": 1996, \"Country\": \"Iran\", \"Budget\": 6040.866695341064}, {\"Year\": 1997, \"Country\": \"Iran\", \"Budget\": 6738.238369566728}, {\"Year\": 1998, \"Country\": \"Iran\", \"Budget\": 6743.473671732205}, {\"Year\": 1999, \"Country\": \"Iran\", \"Budget\": 6820.589076145834}, {\"Year\": 2000, \"Country\": \"Iran\", \"Budget\": 7509.216630117498}, {\"Year\": 2001, \"Country\": \"Iran\", \"Budget\": 8359.349088403402}, {\"Year\": 2002, \"Country\": \"Iran\", \"Budget\": 8997.888976075667}, {\"Year\": 2003, \"Country\": \"Iran\", \"Budget\": 10501.834533002737}, {\"Year\": 2004, \"Country\": \"Iran\", \"Budget\": 13571.064120844732}, {\"Year\": 2005, \"Country\": \"Iran\", \"Budget\": 16137.611213234235}, {\"Year\": 2006, \"Country\": \"Iran\", \"Budget\": 19323.15387185534}, {\"Year\": 2007, \"Country\": \"Iran\", \"Budget\": 17768.812095752455}, {\"Year\": 2008, \"Country\": \"Iran\", \"Budget\": 17094.61135346905}, {\"Year\": 2009, \"Country\": \"Iran\", \"Budget\": 17885.968348136656}, {\"Year\": 2010, \"Country\": \"Iran\", \"Budget\": 18199.641405831822}, {\"Year\": 2011, \"Country\": \"Iran\", \"Budget\": 15707.62202012112}, {\"Year\": 2012, \"Country\": \"Iran\", \"Budget\": 16353.502695509316}, {\"Year\": 2013, \"Country\": \"Iran\", \"Budget\": 13169.691707396343}, {\"Year\": 2014, \"Country\": \"Iran\", \"Budget\": 13130.99863671352}, {\"Year\": 2015, \"Country\": \"Iran\", \"Budget\": 13961.684608922145}, {\"Year\": 2016, \"Country\": \"Iran\", \"Budget\": 16028.488628759525}, {\"Year\": 2017, \"Country\": \"Iran\", \"Budget\": 18034.18483754203}, {\"Year\": 2018, \"Country\": \"Iran\", \"Budget\": 15257.258292151995}, {\"Year\": 2019, \"Country\": \"Iran\", \"Budget\": 12528.450210913432}, {\"Year\": 2020, \"Country\": \"Iran\", \"Budget\": 12150.789862134212}, {\"Year\": 1992, \"Country\": \"Turkey\", \"Budget\": 8629.590984985478}, {\"Year\": 1993, \"Country\": \"Turkey\", \"Budget\": 9541.084467802415}, {\"Year\": 1994, \"Country\": \"Turkey\", \"Budget\": 9328.19202460351}, {\"Year\": 1995, \"Country\": \"Turkey\", \"Budget\": 9583.02819328489}, {\"Year\": 1996, \"Country\": \"Turkey\", \"Budget\": 10725.08400917255}, {\"Year\": 1997, \"Country\": \"Turkey\", \"Budget\": 11177.764562486713}, {\"Year\": 1998, \"Country\": \"Turkey\", \"Budget\": 11712.443280140162}, {\"Year\": 1999, \"Country\": \"Turkey\", \"Budget\": 12932.286253983071}, {\"Year\": 2000, \"Country\": \"Turkey\", \"Budget\": 12515.562956853943}, {\"Year\": 2001, \"Country\": \"Turkey\", \"Budget\": 11473.279661371127}, {\"Year\": 2002, \"Country\": \"Turkey\", \"Budget\": 12207.54845578652}, {\"Year\": 2003, \"Country\": \"Turkey\", \"Budget\": 11352.546544486448}, {\"Year\": 2004, \"Country\": \"Turkey\", \"Budget\": 10549.938147215702}, {\"Year\": 2005, \"Country\": \"Turkey\", \"Budget\": 10168.23367637912}, {\"Year\": 2006, \"Country\": \"Turkey\", \"Budget\": 10643.88517209906}, {\"Year\": 2007, \"Country\": \"Turkey\", \"Budget\": 10263.079104025483}, {\"Year\": 2008, \"Country\": \"Turkey\", \"Budget\": 10410.818994809562}, {\"Year\": 2009, \"Country\": \"Turkey\", \"Budget\": 11139.674910537231}, {\"Year\": 2010, \"Country\": \"Turkey\", \"Budget\": 10942.59935323586}, {\"Year\": 2011, \"Country\": \"Turkey\", \"Budget\": 11036.466153605856}, {\"Year\": 2012, \"Country\": \"Turkey\", \"Budget\": 11307.322514802227}, {\"Year\": 2013, \"Country\": \"Turkey\", \"Budget\": 11612.436395298737}, {\"Year\": 2014, \"Country\": \"Turkey\", \"Budget\": 11697.165753867768}, {\"Year\": 2015, \"Country\": \"Turkey\", \"Budget\": 12036.422550427817}, {\"Year\": 2016, \"Country\": \"Turkey\", \"Budget\": 14111.90031075973}, {\"Year\": 2017, \"Country\": \"Turkey\", \"Budget\": 15146.565708890097}, {\"Year\": 2018, \"Country\": \"Turkey\", \"Budget\": 19225.186159282286}, {\"Year\": 2019, \"Country\": \"Turkey\", \"Budget\": 20603.378497272566}, {\"Year\": 2020, \"Country\": \"Turkey\", \"Budget\": 19567.211572354587}]}}, {\"mode\": \"vega-lite\"});\n",
       "</script>"
      ],
      "text/plain": [
       "alt.Chart(...)"
      ]
     },
     "execution_count": 165,
     "metadata": {},
     "output_type": "execute_result"
    }
   ],
   "source": [
    "sipri.spending_bar_chart([\"USA\", \"China\", \"Russia\", \"Iran\", \"Pakistan\", \"Turkey\"], meaningful_world)"
   ]
  },
  {
   "cell_type": "code",
   "execution_count": null,
   "id": "68426b07",
   "metadata": {},
   "outputs": [],
   "source": [
    "regions = ['Africa', 'Americas', 'Asia and Oceania', 'Europe', 'Middle East (excluding Iraq)']\n",
    "#sipri.regional_budget_line_chart(regions, meaningful_world[::5])"
   ]
  },
  {
   "cell_type": "code",
   "execution_count": 166,
   "id": "fcfc0562",
   "metadata": {},
   "outputs": [
    {
     "name": "stderr",
     "output_type": "stream",
     "text": [
      "C:\\Users\\mille\\PycharmProjects\\VisualizingPower\\venv\\src\\Sipri.py:181: SettingWithCopyWarning: \n",
      "A value is trying to be set on a copy of a slice from a DataFrame.\n",
      "Try using .loc[row_indexer,col_indexer] = value instead\n",
      "\n",
      "See the caveats in the documentation: https://pandas.pydata.org/pandas-docs/stable/user_guide/indexing.html#returning-a-view-versus-a-copy\n",
      "  df[\"Budget\"] = df[\"Budget\"].map(lambda item : item / 1000)\n"
     ]
    },
    {
     "data": {
      "text/html": [
       "\n",
       "<div id=\"altair-viz-da5e3e4b323a46168c3836dcf103355f\"></div>\n",
       "<script type=\"text/javascript\">\n",
       "  (function(spec, embedOpt){\n",
       "    let outputDiv = document.currentScript.previousElementSibling;\n",
       "    if (outputDiv.id !== \"altair-viz-da5e3e4b323a46168c3836dcf103355f\") {\n",
       "      outputDiv = document.getElementById(\"altair-viz-da5e3e4b323a46168c3836dcf103355f\");\n",
       "    }\n",
       "    const paths = {\n",
       "      \"vega\": \"https://cdn.jsdelivr.net/npm//vega@5?noext\",\n",
       "      \"vega-lib\": \"https://cdn.jsdelivr.net/npm//vega-lib?noext\",\n",
       "      \"vega-lite\": \"https://cdn.jsdelivr.net/npm//vega-lite@4.8.1?noext\",\n",
       "      \"vega-embed\": \"https://cdn.jsdelivr.net/npm//vega-embed@6?noext\",\n",
       "    };\n",
       "\n",
       "    function loadScript(lib) {\n",
       "      return new Promise(function(resolve, reject) {\n",
       "        var s = document.createElement('script');\n",
       "        s.src = paths[lib];\n",
       "        s.async = true;\n",
       "        s.onload = () => resolve(paths[lib]);\n",
       "        s.onerror = () => reject(`Error loading script: ${paths[lib]}`);\n",
       "        document.getElementsByTagName(\"head\")[0].appendChild(s);\n",
       "      });\n",
       "    }\n",
       "\n",
       "    function showError(err) {\n",
       "      outputDiv.innerHTML = `<div class=\"error\" style=\"color:red;\">${err}</div>`;\n",
       "      throw err;\n",
       "    }\n",
       "\n",
       "    function displayChart(vegaEmbed) {\n",
       "      vegaEmbed(outputDiv, spec, embedOpt)\n",
       "        .catch(err => showError(`Javascript Error: ${err.message}<br>This usually means there's a typo in your chart specification. See the javascript console for the full traceback.`));\n",
       "    }\n",
       "\n",
       "    if(typeof define === \"function\" && define.amd) {\n",
       "      requirejs.config({paths});\n",
       "      require([\"vega-embed\"], displayChart, err => showError(`Error loading script: ${err.message}`));\n",
       "    } else if (typeof vegaEmbed === \"function\") {\n",
       "      displayChart(vegaEmbed);\n",
       "    } else {\n",
       "      loadScript(\"vega\")\n",
       "        .then(() => loadScript(\"vega-lite\"))\n",
       "        .then(() => loadScript(\"vega-embed\"))\n",
       "        .catch(showError)\n",
       "        .then(() => displayChart(vegaEmbed));\n",
       "    }\n",
       "  })({\"config\": {\"view\": {\"continuousWidth\": 400, \"continuousHeight\": 300}}, \"data\": {\"name\": \"data-ff75974f83dd581fbf007d83884fb8ff\"}, \"mark\": \"bar\", \"encoding\": {\"x\": {\"type\": \"nominal\", \"field\": \"Region\"}, \"y\": {\"type\": \"quantitative\", \"aggregate\": \"sum\", \"field\": \"Budget\"}}, \"height\": 500, \"width\": 500, \"$schema\": \"https://vega.github.io/schema/vega-lite/v4.8.1.json\", \"datasets\": {\"data-ff75974f83dd581fbf007d83884fb8ff\": [{\"Year\": 1992, \"Region\": \"Africa\", \"Budget\": 14.416682143445644}, {\"Year\": 1993, \"Region\": \"Africa\", \"Budget\": 16.339152336132994}, {\"Year\": 1994, \"Region\": \"Africa\", \"Budget\": 15.542612819136796}, {\"Year\": 1995, \"Region\": \"Africa\", \"Budget\": 14.266153206662665}, {\"Year\": 1996, \"Region\": \"Africa\", \"Budget\": 13.775911144045889}, {\"Year\": 1997, \"Region\": \"Africa\", \"Budget\": 14.731659422347906}, {\"Year\": 1998, \"Region\": \"Africa\", \"Budget\": 15.482727224547876}, {\"Year\": 1999, \"Region\": \"Africa\", \"Budget\": 20.89811460746315}, {\"Year\": 2000, \"Region\": \"Africa\", \"Budget\": 18.85362684913391}, {\"Year\": 2001, \"Region\": \"Africa\", \"Budget\": 19.69471766867475}, {\"Year\": 2002, \"Region\": \"Africa\", \"Budget\": 23.38185291219622}, {\"Year\": 2003, \"Region\": \"Africa\", \"Budget\": 21.105520414468423}, {\"Year\": 2004, \"Region\": \"Africa\", \"Budget\": 23.18674591513038}, {\"Year\": 2005, \"Region\": \"Africa\", \"Budget\": 23.88115179661004}, {\"Year\": 2006, \"Region\": \"Africa\", \"Budget\": 24.818619208968578}, {\"Year\": 2007, \"Region\": \"Africa\", \"Budget\": 25.969359088967245}, {\"Year\": 2008, \"Region\": \"Africa\", \"Budget\": 30.531470647906993}, {\"Year\": 2009, \"Region\": \"Africa\", \"Budget\": 31.975326637279732}, {\"Year\": 2010, \"Region\": \"Africa\", \"Budget\": 34.30714705251072}, {\"Year\": 2011, \"Region\": \"Africa\", \"Budget\": 38.55995250321389}, {\"Year\": 2012, \"Region\": \"Africa\", \"Budget\": 39.71508639736133}, {\"Year\": 2013, \"Region\": \"Africa\", \"Budget\": 44.18803933388439}, {\"Year\": 2014, \"Region\": \"Africa\", \"Budget\": 45.609897682579685}, {\"Year\": 2015, \"Region\": \"Africa\", \"Budget\": 44.007647871709224}, {\"Year\": 2016, \"Region\": \"Africa\", \"Budget\": 42.59775610958095}, {\"Year\": 2017, \"Region\": \"Africa\", \"Budget\": 41.46767534074726}, {\"Year\": 2018, \"Region\": \"Africa\", \"Budget\": 40.50544668276156}, {\"Year\": 2019, \"Region\": \"Africa\", \"Budget\": 40.90182367850469}, {\"Year\": 2020, \"Region\": \"Africa\", \"Budget\": 42.980460982855774}, {\"Year\": 1992, \"Region\": \"Asia and Oceania\", \"Budget\": 159.44773386413087}, {\"Year\": 1993, \"Region\": \"Asia and Oceania\", \"Budget\": 162.8574949054047}, {\"Year\": 1994, \"Region\": \"Asia and Oceania\", \"Budget\": 163.9658428835417}, {\"Year\": 1995, \"Region\": \"Asia and Oceania\", \"Budget\": 168.8009362243888}, {\"Year\": 1996, \"Region\": \"Asia and Oceania\", \"Budget\": 172.97431565441389}, {\"Year\": 1997, \"Region\": \"Asia and Oceania\", \"Budget\": 179.11361737850194}, {\"Year\": 1998, \"Region\": \"Asia and Oceania\", \"Budget\": 179.36178763196796}, {\"Year\": 1999, \"Region\": \"Asia and Oceania\", \"Budget\": 189.63286561021414}, {\"Year\": 2000, \"Region\": \"Asia and Oceania\", \"Budget\": 193.9389245447544}, {\"Year\": 2001, \"Region\": \"Asia and Oceania\", \"Budget\": 204.84215775126398}, {\"Year\": 2002, \"Region\": \"Asia and Oceania\", \"Budget\": 214.4971883296599}, {\"Year\": 2003, \"Region\": \"Asia and Oceania\", \"Budget\": 223.50007462817842}, {\"Year\": 2004, \"Region\": \"Asia and Oceania\", \"Budget\": 236.82337031694655}, {\"Year\": 2005, \"Region\": \"Asia and Oceania\", \"Budget\": 248.62967933062274}, {\"Year\": 2006, \"Region\": \"Asia and Oceania\", \"Budget\": 262.74210774879316}, {\"Year\": 2007, \"Region\": \"Asia and Oceania\", \"Budget\": 278.4687905793393}, {\"Year\": 2008, \"Region\": \"Asia and Oceania\", \"Budget\": 295.43770862516146}, {\"Year\": 2009, \"Region\": \"Asia and Oceania\", \"Budget\": 332.3391192057627}, {\"Year\": 2010, \"Region\": \"Asia and Oceania\", \"Budget\": 339.7754562051901}, {\"Year\": 2011, \"Region\": \"Asia and Oceania\", \"Budget\": 352.34816457169796}, {\"Year\": 2012, \"Region\": \"Asia and Oceania\", \"Budget\": 368.04292150145614}, {\"Year\": 2013, \"Region\": \"Asia and Oceania\", \"Budget\": 384.0789363295432}, {\"Year\": 2014, \"Region\": \"Asia and Oceania\", \"Budget\": 404.32279678474436}, {\"Year\": 2015, \"Region\": \"Asia and Oceania\", \"Budget\": 428.1648822905447}, {\"Year\": 2016, \"Region\": \"Asia and Oceania\", \"Budget\": 448.6270274416417}, {\"Year\": 2017, \"Region\": \"Asia and Oceania\", \"Budget\": 469.6609724136279}, {\"Year\": 2018, \"Region\": \"Asia and Oceania\", \"Budget\": 484.07574279714606}, {\"Year\": 2019, \"Region\": \"Asia and Oceania\", \"Budget\": 506.1887741693867}, {\"Year\": 2020, \"Region\": \"Asia and Oceania\", \"Budget\": 518.9295933095775}, {\"Year\": 1992, \"Region\": \"Europe\", \"Budget\": 332.82509042603374}, {\"Year\": 1993, \"Region\": \"Europe\", \"Budget\": 309.91915216356796}, {\"Year\": 1994, \"Region\": \"Europe\", \"Budget\": 303.7880234012438}, {\"Year\": 1995, \"Region\": \"Europe\", \"Budget\": 281.3523969433211}, {\"Year\": 1996, \"Region\": \"Europe\", \"Budget\": 279.40410952082306}, {\"Year\": 1997, \"Region\": \"Europe\", \"Budget\": 280.8067550263381}, {\"Year\": 1998, \"Region\": \"Europe\", \"Budget\": 270.6324523997789}, {\"Year\": 1999, \"Region\": \"Europe\", \"Budget\": 275.87952862063673}, {\"Year\": 2000, \"Region\": \"Europe\", \"Budget\": 284.8330105142951}, {\"Year\": 2001, \"Region\": \"Europe\", \"Budget\": 287.4394297848283}, {\"Year\": 2002, \"Region\": \"Europe\", \"Budget\": 294.6701959735544}, {\"Year\": 2003, \"Region\": \"Europe\", \"Budget\": 301.1494765383708}, {\"Year\": 2004, \"Region\": \"Europe\", \"Budget\": 305.1610083218459}, {\"Year\": 2005, \"Region\": \"Europe\", \"Budget\": 302.8609055469205}, {\"Year\": 2006, \"Region\": \"Europe\", \"Budget\": 313.6129725450214}, {\"Year\": 2007, \"Region\": \"Europe\", \"Budget\": 322.17039734702405}, {\"Year\": 2008, \"Region\": \"Europe\", \"Budget\": 331.1879855449192}, {\"Year\": 2009, \"Region\": \"Europe\", \"Budget\": 336.6358694933851}, {\"Year\": 2010, \"Region\": \"Europe\", \"Budget\": 330.18821227620504}, {\"Year\": 2011, \"Region\": \"Europe\", \"Budget\": 324.684407752865}, {\"Year\": 2012, \"Region\": \"Europe\", \"Budget\": 328.27738833839334}, {\"Year\": 2013, \"Region\": \"Europe\", \"Budget\": 323.2810606966993}, {\"Year\": 2014, \"Region\": \"Europe\", \"Budget\": 326.9816225712004}, {\"Year\": 2015, \"Region\": \"Europe\", \"Budget\": 335.89139780607536}, {\"Year\": 2016, \"Region\": \"Europe\", \"Budget\": 348.3161838525074}, {\"Year\": 2017, \"Region\": \"Europe\", \"Budget\": 339.3767039166061}, {\"Year\": 2018, \"Region\": \"Europe\", \"Budget\": 345.5344789879772}, {\"Year\": 2019, \"Region\": \"Europe\", \"Budget\": 363.3573507478336}, {\"Year\": 2020, \"Region\": \"Europe\", \"Budget\": 377.84357988418265}, {\"Year\": 1992, \"Region\": \"Americas minus US\", \"Budget\": 40.08830282727797}, {\"Year\": 1993, \"Region\": \"Americas minus US\", \"Budget\": 44.09529338219784}, {\"Year\": 1994, \"Region\": \"Americas minus US\", \"Budget\": 47.13017273429796}, {\"Year\": 1995, \"Region\": \"Americas minus US\", \"Budget\": 48.96171723423248}, {\"Year\": 1996, \"Region\": \"Americas minus US\", \"Budget\": 48.15679638641677}, {\"Year\": 1997, \"Region\": \"Americas minus US\", \"Budget\": 45.038642974264405}, {\"Year\": 1998, \"Region\": \"Americas minus US\", \"Budget\": 47.66933659864367}, {\"Year\": 1999, \"Region\": \"Americas minus US\", \"Budget\": 48.601618124244624}, {\"Year\": 2000, \"Region\": \"Americas minus US\", \"Budget\": 48.97204262815268}, {\"Year\": 2001, \"Region\": \"Americas minus US\", \"Budget\": 52.65681652851805}, {\"Year\": 2002, \"Region\": \"Americas minus US\", \"Budget\": 52.493966831714374}, {\"Year\": 2003, \"Region\": \"Americas minus US\", \"Budget\": 49.73082248922299}, {\"Year\": 2004, \"Region\": \"Americas minus US\", \"Budget\": 51.38320557440534}, {\"Year\": 2005, \"Region\": \"Americas minus US\", \"Budget\": 54.46190359065429}, {\"Year\": 2006, \"Region\": \"Americas minus US\", \"Budget\": 56.7481331545431}, {\"Year\": 2007, \"Region\": \"Americas minus US\", \"Budget\": 61.69102091600962}, {\"Year\": 2008, \"Region\": \"Americas minus US\", \"Budget\": 66.39548395786119}, {\"Year\": 2009, \"Region\": \"Americas minus US\", \"Budget\": 70.83885921702449}, {\"Year\": 2010, \"Region\": \"Americas minus US\", \"Budget\": 72.07157339855098}, {\"Year\": 2011, \"Region\": \"Americas minus US\", \"Budget\": 72.40532330447752}, {\"Year\": 2012, \"Region\": \"Americas minus US\", \"Budget\": 73.1245815395979}, {\"Year\": 2013, \"Region\": \"Americas minus US\", \"Budget\": 74.24022548514438}, {\"Year\": 2014, \"Region\": \"Americas minus US\", \"Budget\": 75.31677648057075}, {\"Year\": 2015, \"Region\": \"Americas minus US\", \"Budget\": 76.92898999639044}, {\"Year\": 2016, \"Region\": \"Americas minus US\", \"Budget\": 75.62031978856419}, {\"Year\": 2017, \"Region\": \"Americas minus US\", \"Budget\": 81.75886300464344}, {\"Year\": 2018, \"Region\": \"Americas minus US\", \"Budget\": 83.6789607269568}, {\"Year\": 2019, \"Region\": \"Americas minus US\", \"Budget\": 83.13552472078379}, {\"Year\": 2020, \"Region\": \"Americas minus US\", \"Budget\": 82.7037633114818}, {\"Year\": 1992, \"Region\": \"USA\", \"Budget\": 592.2123403407995}, {\"Year\": 1993, \"Region\": \"USA\", \"Budget\": 560.519237191198}, {\"Year\": 1994, \"Region\": \"USA\", \"Budget\": 531.3812718598398}, {\"Year\": 1995, \"Region\": \"USA\", \"Budget\": 496.3603106887305}, {\"Year\": 1996, \"Region\": \"USA\", \"Budget\": 469.3610497676982}, {\"Year\": 1997, \"Region\": \"USA\", \"Budget\": 466.9330017121977}, {\"Year\": 1998, \"Region\": \"USA\", \"Budget\": 456.38954882113717}, {\"Year\": 1999, \"Region\": \"USA\", \"Budget\": 457.5126509801381}, {\"Year\": 2000, \"Region\": \"USA\", \"Budget\": 475.21743761999534}, {\"Year\": 2001, \"Region\": \"USA\", \"Budget\": 479.07698739295034}, {\"Year\": 2002, \"Region\": \"USA\", \"Budget\": 537.9119297143301}, {\"Year\": 2003, \"Region\": \"USA\", \"Budget\": 612.232611746641}, {\"Year\": 2004, \"Region\": \"USA\", \"Budget\": 667.2846391627429}, {\"Year\": 2005, \"Region\": \"USA\", \"Budget\": 698.019039243438}, {\"Year\": 2006, \"Region\": \"USA\", \"Budget\": 708.0773034661642}, {\"Year\": 2007, \"Region\": \"USA\", \"Budget\": 726.9715289619542}, {\"Year\": 2008, \"Region\": \"USA\", \"Budget\": 779.8541231074096}, {\"Year\": 2009, \"Region\": \"USA\", \"Budget\": 841.220472930465}, {\"Year\": 2010, \"Region\": \"USA\", \"Budget\": 865.2680248243364}, {\"Year\": 2011, \"Region\": \"USA\", \"Budget\": 855.0223134521549}, {\"Year\": 2012, \"Region\": \"USA\", \"Budget\": 807.5302671147302}, {\"Year\": 2013, \"Region\": \"USA\", \"Budget\": 745.415975253309}, {\"Year\": 2014, \"Region\": \"USA\", \"Budget\": 699.5638419636592}, {\"Year\": 2015, \"Region\": \"USA\", \"Budget\": 683.6777451132468}, {\"Year\": 2016, \"Region\": \"USA\", \"Budget\": 681.5798358308816}, {\"Year\": 2017, \"Region\": \"USA\", \"Budget\": 674.5572111779092}, {\"Year\": 2018, \"Region\": \"USA\", \"Budget\": 694.8595779135808}, {\"Year\": 2019, \"Region\": \"USA\", \"Budget\": 734.3441}, {\"Year\": 2020, \"Region\": \"USA\", \"Budget\": 766.5828253583318}]}}, {\"mode\": \"vega-lite\"});\n",
       "</script>"
      ],
      "text/plain": [
       "alt.Chart(...)"
      ]
     },
     "execution_count": 166,
     "metadata": {},
     "output_type": "execute_result"
    }
   ],
   "source": [
    "regions = ['Africa', 'Americas', 'Asia and Oceania', 'Europe', 'Middle East (excluding Iraq)']\n",
    "sipri.regional_spending_bar_chart(regions, meaningful_world[::5])"
   ]
  },
  {
   "cell_type": "code",
   "execution_count": 164,
   "id": "ddb00f18",
   "metadata": {},
   "outputs": [
    {
     "data": {
      "text/html": [
       "\n",
       "<div id=\"altair-viz-82761681d048498e98c7a0aef91ce895\"></div>\n",
       "<script type=\"text/javascript\">\n",
       "  (function(spec, embedOpt){\n",
       "    let outputDiv = document.currentScript.previousElementSibling;\n",
       "    if (outputDiv.id !== \"altair-viz-82761681d048498e98c7a0aef91ce895\") {\n",
       "      outputDiv = document.getElementById(\"altair-viz-82761681d048498e98c7a0aef91ce895\");\n",
       "    }\n",
       "    const paths = {\n",
       "      \"vega\": \"https://cdn.jsdelivr.net/npm//vega@5?noext\",\n",
       "      \"vega-lib\": \"https://cdn.jsdelivr.net/npm//vega-lib?noext\",\n",
       "      \"vega-lite\": \"https://cdn.jsdelivr.net/npm//vega-lite@4.8.1?noext\",\n",
       "      \"vega-embed\": \"https://cdn.jsdelivr.net/npm//vega-embed@6?noext\",\n",
       "    };\n",
       "\n",
       "    function loadScript(lib) {\n",
       "      return new Promise(function(resolve, reject) {\n",
       "        var s = document.createElement('script');\n",
       "        s.src = paths[lib];\n",
       "        s.async = true;\n",
       "        s.onload = () => resolve(paths[lib]);\n",
       "        s.onerror = () => reject(`Error loading script: ${paths[lib]}`);\n",
       "        document.getElementsByTagName(\"head\")[0].appendChild(s);\n",
       "      });\n",
       "    }\n",
       "\n",
       "    function showError(err) {\n",
       "      outputDiv.innerHTML = `<div class=\"error\" style=\"color:red;\">${err}</div>`;\n",
       "      throw err;\n",
       "    }\n",
       "\n",
       "    function displayChart(vegaEmbed) {\n",
       "      vegaEmbed(outputDiv, spec, embedOpt)\n",
       "        .catch(err => showError(`Javascript Error: ${err.message}<br>This usually means there's a typo in your chart specification. See the javascript console for the full traceback.`));\n",
       "    }\n",
       "\n",
       "    if(typeof define === \"function\" && define.amd) {\n",
       "      requirejs.config({paths});\n",
       "      require([\"vega-embed\"], displayChart, err => showError(`Error loading script: ${err.message}`));\n",
       "    } else if (typeof vegaEmbed === \"function\") {\n",
       "      displayChart(vegaEmbed);\n",
       "    } else {\n",
       "      loadScript(\"vega\")\n",
       "        .then(() => loadScript(\"vega-lite\"))\n",
       "        .then(() => loadScript(\"vega-embed\"))\n",
       "        .catch(showError)\n",
       "        .then(() => displayChart(vegaEmbed));\n",
       "    }\n",
       "  })({\"config\": {\"view\": {\"continuousWidth\": 400, \"continuousHeight\": 300}}, \"layer\": [{\"mark\": {\"type\": \"geoshape\", \"stroke\": \"black\"}, \"encoding\": {\"color\": {\"type\": \"ordinal\", \"field\": \"bools\", \"scale\": {\"domain\": [true, false, null], \"scheme\": \"category20\"}}}, \"height\": 600, \"projection\": {\"scale\": 125, \"type\": \"equirectangular\"}, \"title\": \"Countries with Budget under Gerald Ford class Aircraft Carrier\", \"transform\": [{\"lookup\": \"id\", \"from\": {\"data\": {\"name\": \"data-d87f836502dba3319b4b17804e5473a2\"}, \"key\": \"id\", \"fields\": [\"bools\"]}}], \"width\": 800}, {\"mark\": {\"type\": \"geoshape\", \"stroke\": \"black\"}, \"encoding\": {\"color\": {\"type\": \"ordinal\", \"field\": \"bools\", \"scale\": {\"domain\": [true, false, null], \"scheme\": \"category20\"}}}, \"height\": 600, \"projection\": {\"scale\": 125, \"type\": \"equirectangular\"}, \"title\": \"Countries with Budget under Gerald Ford class Aircraft Carrier\", \"transform\": [{\"lookup\": \"id\", \"from\": {\"data\": {\"name\": \"data-d87f836502dba3319b4b17804e5473a2\"}, \"key\": \"id\", \"fields\": [\"bools\"]}}], \"width\": 800}], \"data\": {\"url\": \"https://vega.github.io/vega-datasets/data/world-110m.json\", \"format\": {\"feature\": \"countries\", \"type\": \"topojson\"}}, \"$schema\": \"https://vega.github.io/schema/vega-lite/v4.8.1.json\", \"datasets\": {\"data-d87f836502dba3319b4b17804e5473a2\": [{\"Year\": 2019, \"Country\": \"Algeria\", \"Budget\": 10303.60057521065, \"id\": 12, \"bools\": true}, {\"Year\": 2019, \"Country\": \"Morocco\", \"Budget\": 3721.32383745287, \"id\": 504, \"bools\": true}, {\"Year\": 2019, \"Country\": \"Tunisia\", \"Budget\": 1000.9221311475409, \"id\": 788, \"bools\": true}, {\"Year\": 2019, \"Country\": \"Angola\", \"Budget\": 1470.9387172875404, \"id\": 24, \"bools\": true}, {\"Year\": 2019, \"Country\": \"Benin\", \"Budget\": 68.11239030783776, \"id\": 204, \"bools\": true}, {\"Year\": 2019, \"Country\": \"Botswana\", \"Budget\": 514.7209302325581, \"id\": 72, \"bools\": true}, {\"Year\": 2019, \"Country\": \"Burkina Faso\", \"Budget\": 357.92155751777426, \"id\": 854, \"bools\": true}, {\"Year\": 2019, \"Country\": \"Burundi\", \"Budget\": 84.68941391820168, \"id\": 108, \"bools\": true}, {\"Year\": 2019, \"Country\": \"Cameroon\", \"Budget\": 422.2947719802443, \"id\": 120, \"bools\": true}, {\"Year\": 2019, \"Country\": \"Cape Verde\", \"Budget\": 9.728061089786552, \"id\": 132, \"bools\": true}, {\"Year\": 2019, \"Country\": \"Central African Rep.\", \"Budget\": 40.7776666587025, \"id\": 140, \"bools\": true}, {\"Year\": 2019, \"Country\": \"Chad\", \"Budget\": 234.70965495820522, \"id\": 148, \"bools\": true}, {\"Year\": 2019, \"Country\": \"Congo, Republic of\", \"Budget\": 299.95323896934593, \"id\": 178, \"bools\": true}, {\"Year\": 2019, \"Country\": \"Congo, Dem. Rep.\", \"Budget\": 352.7095655968196, \"id\": 180, \"bools\": true}, {\"Year\": 2019, \"Country\": \"C\\u00f4te d\\u2019Ivoire\", \"Budget\": 535.9513821809754, \"id\": 384, \"bools\": true}, {\"Year\": 2019, \"Country\": \"Equatorial Guinea\", \"Budget\": 160.71459046552826, \"id\": 226, \"bools\": true}, {\"Year\": 2019, \"Country\": \"Ethiopia\", \"Budget\": 544.8394298471579, \"id\": 231, \"bools\": true}, {\"Year\": 2019, \"Country\": \"Gabon\", \"Budget\": 266.8791961198584, \"id\": 266, \"bools\": true}, {\"Year\": 2019, \"Country\": \"Gambia\", \"Budget\": 14.529115744069015, \"id\": 270, \"bools\": true}, {\"Year\": 2019, \"Country\": \"Ghana\", \"Budget\": 233.32013703844692, \"id\": 288, \"bools\": true}, {\"Year\": 2019, \"Country\": \"Guinea\", \"Budget\": 197.75433070763407, \"id\": 324, \"bools\": true}, {\"Year\": 2019, \"Country\": \"Guinea-Bissau\", \"Budget\": 22.571242307469138, \"id\": 624, \"bools\": true}, {\"Year\": 2019, \"Country\": \"Kenya\", \"Budget\": 1116.8724199131227, \"id\": 404, \"bools\": true}, {\"Year\": 2019, \"Country\": \"Lesotho\", \"Budget\": 44.84596746278989, \"id\": 426, \"bools\": true}, {\"Year\": 2019, \"Country\": \"Liberia\", \"Budget\": 19.2285, \"id\": 430, \"bools\": true}, {\"Year\": 2019, \"Country\": \"Madagascar\", \"Budget\": 76.576631109179, \"id\": 450, \"bools\": true}, {\"Year\": 2019, \"Country\": \"Malawi\", \"Budget\": 87.0209334510227, \"id\": 454, \"bools\": true}, {\"Year\": 2019, \"Country\": \"Mali\", \"Budget\": 475.6381856720106, \"id\": 466, \"bools\": true}, {\"Year\": 2019, \"Country\": \"Mauritania\", \"Budget\": 162.3979549764987, \"id\": 478, \"bools\": true}, {\"Year\": 2019, \"Country\": \"Mauritius\", \"Budget\": 21.831361861144668, \"id\": 480, \"bools\": true}, {\"Year\": 2019, \"Country\": \"Mozambique\", \"Budget\": 217.45132229003198, \"id\": 508, \"bools\": true}, {\"Year\": 2019, \"Country\": \"Namibia\", \"Budget\": 414.0594899868339, \"id\": 516, \"bools\": true}, {\"Year\": 2019, \"Country\": \"Niger\", \"Budget\": 247.63208284552817, \"id\": 562, \"bools\": true}, {\"Year\": 2019, \"Country\": \"Nigeria\", \"Budget\": 1860.2604295613423, \"id\": 566, \"bools\": true}, {\"Year\": 2019, \"Country\": \"Rwanda\", \"Budget\": 124.07335262689226, \"id\": 646, \"bools\": true}, {\"Year\": 2019, \"Country\": \"Senegal\", \"Budget\": 356.82079602974954, \"id\": 686, \"bools\": true}, {\"Year\": 2019, \"Country\": \"Seychelles\", \"Budget\": 23.4962551154351, \"id\": 690, \"bools\": true}, {\"Year\": 2019, \"Country\": \"Sierra Leone\", \"Budget\": 25.641867776012568, \"id\": 694, \"bools\": true}, {\"Year\": 2019, \"Country\": \"South Africa\", \"Budget\": 3435.736037095993, \"id\": 710, \"bools\": true}, {\"Year\": 2019, \"Country\": \"South Sudan\", \"Budget\": 186.49892522647016, \"id\": 728, \"bools\": true}, {\"Year\": 2019, \"Country\": \"Sudan\", \"Budget\": 722.2561774207633, \"id\": 729, \"bools\": true}, {\"Year\": 2019, \"Country\": \"eSwatini\", \"Budget\": 86.5322859713475, \"id\": 748, \"bools\": true}, {\"Year\": 2019, \"Country\": \"Tanzania\", \"Budget\": 618.9434455681802, \"id\": 834, \"bools\": true}, {\"Year\": 2019, \"Country\": \"Togo\", \"Budget\": 170.5668324350892, \"id\": 768, \"bools\": true}, {\"Year\": 2019, \"Country\": \"Uganda\", \"Budget\": 647.6066069308001, \"id\": 800, \"bools\": true}, {\"Year\": 2019, \"Country\": \"Zambia\", \"Budget\": 292.07246264612525, \"id\": 894, \"bools\": true}, {\"Year\": 2019, \"Country\": \"Zimbabwe\", \"Budget\": 546.939, \"id\": 716, \"bools\": true}, {\"Year\": 2019, \"Country\": \"Belize\", \"Budget\": 24.4721125, \"id\": 84, \"bools\": true}, {\"Year\": 2019, \"Country\": \"Costa Rica\", \"Budget\": 0.0, \"id\": 188, \"bools\": true}, {\"Year\": 2019, \"Country\": \"Dominican Rep.\", \"Budget\": 613.2990233346978, \"id\": 214, \"bools\": true}, {\"Year\": 2019, \"Country\": \"El Salvador\", \"Budget\": 317.2, \"id\": 222, \"bools\": true}, {\"Year\": 2019, \"Country\": \"Guatemala\", \"Budget\": 331.8825516434975, \"id\": 320, \"bools\": true}, {\"Year\": 2019, \"Country\": \"Haiti\", \"Budget\": 0.11301748948417092, \"id\": 332, \"bools\": true}, {\"Year\": 2019, \"Country\": \"Honduras\", \"Budget\": 407.3902578328981, \"id\": 340, \"bools\": true}, {\"Year\": 2019, \"Country\": \"Jamaica\", \"Budget\": 265.2617237863932, \"id\": 388, \"bools\": true}, {\"Year\": 2019, \"Country\": \"Mexico\", \"Budget\": 6650.808254067259, \"id\": 484, \"bools\": true}, {\"Year\": 2019, \"Country\": \"Nicaragua\", \"Budget\": 76.93150684931507, \"id\": 558, \"bools\": true}, {\"Year\": 2019, \"Country\": \"Panama\", \"Budget\": 0.0, \"id\": 591, \"bools\": true}, {\"Year\": 2019, \"Country\": \"Trinidad & Tobago\", \"Budget\": 172.52584933530284, \"id\": 780, \"bools\": true}, {\"Year\": 2019, \"Country\": \"Canada\", \"Budget\": 22204.408440090432, \"id\": 124, \"bools\": false}, {\"Year\": 2019, \"Country\": \"USA\", \"Budget\": 734344.1, \"id\": 840, \"bools\": false}, {\"Year\": 2019, \"Country\": \"Argentina\", \"Budget\": 3132.6549260674533, \"id\": 32, \"bools\": true}, {\"Year\": 2019, \"Country\": \"Bolivia\", \"Budget\": 598.2130459936361, \"id\": 68, \"bools\": true}, {\"Year\": 2019, \"Country\": \"Brazil\", \"Budget\": 25906.871196754564, \"id\": 76, \"bools\": false}, {\"Year\": 2019, \"Country\": \"Chile\", \"Budget\": 5182.156528660157, \"id\": 152, \"bools\": true}, {\"Year\": 2019, \"Country\": \"Colombia\", \"Budget\": 10167.547855570394, \"id\": 170, \"bools\": true}, {\"Year\": 2019, \"Country\": \"Ecuador\", \"Budget\": 2399.9, \"id\": 218, \"bools\": true}, {\"Year\": 2019, \"Country\": \"Guyana\", \"Budget\": 67.20693771302835, \"id\": 328, \"bools\": true}, {\"Year\": 2019, \"Country\": \"Paraguay\", \"Budget\": 375.779511383923, \"id\": 600, \"bools\": true}, {\"Year\": 2019, \"Country\": \"Peru\", \"Budget\": 2766.847335140018, \"id\": 604, \"bools\": true}, {\"Year\": 2019, \"Country\": \"Uruguay\", \"Budget\": 1154.9161488039501, \"id\": 858, \"bools\": true}, {\"Year\": 2019, \"Country\": \"Venezuela\", \"Budget\": 0.4112702176528608, \"id\": 862, \"bools\": true}, {\"Year\": 2019, \"Country\": \"Kazakhstan\", \"Budget\": 1928.7760222878467, \"id\": 398, \"bools\": true}, {\"Year\": 2019, \"Country\": \"Kyrgyzstan\", \"Budget\": 128.94345177070963, \"id\": 417, \"bools\": true}, {\"Year\": 2019, \"Country\": \"Tajikistan\", \"Budget\": 84.29006191625564, \"id\": 762, \"bools\": true}, {\"Year\": 2019, \"Country\": \"China\", \"Budget\": 240332.55545815144, \"id\": 156, \"bools\": false}, {\"Year\": 2019, \"Country\": \"Japan\", \"Budget\": 47609.01998734166, \"id\": 392, \"bools\": false}, {\"Year\": 2019, \"Country\": \"Korea, South\", \"Budget\": 43890.86198613685, \"id\": 410, \"bools\": false}, {\"Year\": 2019, \"Country\": \"Mongolia\", \"Budget\": 99.72948316665394, \"id\": 496, \"bools\": true}, {\"Year\": 2019, \"Country\": \"Taiwan\", \"Budget\": 10993.171742014822, \"id\": 158, \"bools\": true}, {\"Year\": 2019, \"Country\": \"Afghanistan\", \"Budget\": 225.8356438693777, \"id\": 4, \"bools\": true}, {\"Year\": 2019, \"Country\": \"Bangladesh\", \"Budget\": 4348.5018948365705, \"id\": 50, \"bools\": true}, {\"Year\": 2019, \"Country\": \"India\", \"Budget\": 71468.9005243041, \"id\": 356, \"bools\": false}, {\"Year\": 2019, \"Country\": \"Nepal\", \"Budget\": 428.701839233383, \"id\": 524, \"bools\": true}, {\"Year\": 2019, \"Country\": \"Pakistan\", \"Budget\": 10388.318164568338, \"id\": 586, \"bools\": true}, {\"Year\": 2019, \"Country\": \"Sri Lanka\", \"Budget\": 1699.78511712236, \"id\": 144, \"bools\": true}, {\"Year\": 2019, \"Country\": \"Brunei\", \"Budget\": 414.7287390029325, \"id\": 96, \"bools\": true}, {\"Year\": 2019, \"Country\": \"Cambodia\", \"Budget\": 595.4076176677853, \"id\": 116, \"bools\": true}, {\"Year\": 2019, \"Country\": \"Indonesia\", \"Budget\": 9003.028193204778, \"id\": 360, \"bools\": true}, {\"Year\": 2019, \"Country\": \"Malaysia\", \"Budget\": 3769.0263348634935, \"id\": 458, \"bools\": true}, {\"Year\": 2019, \"Country\": \"Myanmar\", \"Budget\": 2225.151432853474, \"id\": 104, \"bools\": true}, {\"Year\": 2019, \"Country\": \"Philippines\", \"Budget\": 3471.5840340195227, \"id\": 608, \"bools\": true}, {\"Year\": 2019, \"Country\": \"Singapore\", \"Budget\": 10662.445014662753, \"id\": 702, \"bools\": true}, {\"Year\": 2019, \"Country\": \"Thailand\", \"Budget\": 7286.122370814848, \"id\": 764, \"bools\": true}, {\"Year\": 2019, \"Country\": \"Timor-Leste\", \"Budget\": 34.4, \"id\": 626, \"bools\": true}, {\"Year\": 2019, \"Country\": \"Australia\", \"Budget\": 26079.346314325456, \"id\": 36, \"bools\": false}, {\"Year\": 2019, \"Country\": \"Fiji\", \"Budget\": 79.49717185805052, \"id\": 242, \"bools\": true}, {\"Year\": 2019, \"Country\": \"New Zealand\", \"Budget\": 2926.9611074489126, \"id\": 554, \"bools\": true}, {\"Year\": 2019, \"Country\": \"Papua New Guinea\", \"Budget\": 80.84615384615385, \"id\": 598, \"bools\": true}, {\"Year\": 2019, \"Country\": \"Albania\", \"Budget\": 197.22591331889254, \"id\": 8, \"bools\": true}, {\"Year\": 2019, \"Country\": \"Bosnia-Herzegovina\", \"Budget\": 165.36920435031482, \"id\": 70, \"bools\": true}, {\"Year\": 2019, \"Country\": \"Bulgaria\", \"Budget\": 2158.5575271894672, \"id\": 100, \"bools\": true}, {\"Year\": 2019, \"Country\": \"Croatia\", \"Budget\": 1001.8121413470252, \"id\": 191, \"bools\": true}, {\"Year\": 2019, \"Country\": \"Czechia\", \"Budget\": 2910.252496620295, \"id\": 203, \"bools\": true}, {\"Year\": 2019, \"Country\": \"Estonia\", \"Budget\": 637.0353784146888, \"id\": 233, \"bools\": true}, {\"Year\": 2019, \"Country\": \"Hungary\", \"Budget\": 2051.0554534630023, \"id\": 348, \"bools\": true}, {\"Year\": 2019, \"Country\": \"Kosovo\", \"Budget\": 65.70532915360502, \"id\": 0, \"bools\": true}, {\"Year\": 2019, \"Country\": \"Latvia\", \"Budget\": 691.8943125839677, \"id\": 428, \"bools\": true}, {\"Year\": 2019, \"Country\": \"Lithuania\", \"Budget\": 1093.8199731303182, \"id\": 440, \"bools\": true}, {\"Year\": 2019, \"Country\": \"Montenegro\", \"Budget\": 77.65673981191222, \"id\": 499, \"bools\": true}, {\"Year\": 2019, \"Country\": \"North Macedonia\", \"Budget\": 146.09338039957788, \"id\": 807, \"bools\": true}, {\"Year\": 2019, \"Country\": \"Poland\", \"Budget\": 11786.153846153846, \"id\": 616, \"bools\": true}, {\"Year\": 2019, \"Country\": \"Romania\", \"Budget\": 4613.0403968816445, \"id\": 642, \"bools\": true}, {\"Year\": 2019, \"Country\": \"Serbia\", \"Budget\": 1143.7792702676957, \"id\": 688, \"bools\": true}, {\"Year\": 2019, \"Country\": \"Slovakia\", \"Budget\": 1802.5078369905957, \"id\": 703, \"bools\": true}, {\"Year\": 2019, \"Country\": \"Slovenia\", \"Budget\": 572.8840125391849, \"id\": 705, \"bools\": true}, {\"Year\": 2019, \"Country\": \"Armenia\", \"Budget\": 652.0001748240832, \"id\": 51, \"bools\": true}, {\"Year\": 2019, \"Country\": \"Azerbaijan\", \"Budget\": 1854.235294117647, \"id\": 31, \"bools\": true}, {\"Year\": 2019, \"Country\": \"Belarus\", \"Budget\": 773.7130287162566, \"id\": 112, \"bools\": true}, {\"Year\": 2019, \"Country\": \"Georgia\", \"Budget\": 310.6141285055023, \"id\": 268, \"bools\": true}, {\"Year\": 2019, \"Country\": \"Moldova\", \"Budget\": 43.009328573073816, \"id\": 498, \"bools\": true}, {\"Year\": 2019, \"Country\": \"Russia\", \"Budget\": 65201.33584835646, \"id\": 643, \"bools\": false}, {\"Year\": 2019, \"Country\": \"Ukraine\", \"Budget\": 5419.138048445906, \"id\": 804, \"bools\": true}, {\"Year\": 2019, \"Country\": \"Austria\", \"Budget\": 3237.7966860725473, \"id\": 40, \"bools\": true}, {\"Year\": 2019, \"Country\": \"Belgium\", \"Budget\": 4761.195700850873, \"id\": 56, \"bools\": true}, {\"Year\": 2019, \"Country\": \"Cyprus\", \"Budget\": 401.589789520824, \"id\": 196, \"bools\": true}, {\"Year\": 2019, \"Country\": \"Denmark\", \"Budget\": 4556.755135702504, \"id\": 208, \"bools\": true}, {\"Year\": 2019, \"Country\": \"Finland\", \"Budget\": 3629.646215853112, \"id\": 246, \"bools\": true}, {\"Year\": 2019, \"Country\": \"France\", \"Budget\": 50118.929211934614, \"id\": 250, \"bools\": false}, {\"Year\": 2019, \"Country\": \"Germany\", \"Budget\": 49007.51231527094, \"id\": 276, \"bools\": false}, {\"Year\": 2019, \"Country\": \"Greece\", \"Budget\": 5471.562919838781, \"id\": 300, \"bools\": true}, {\"Year\": 2019, \"Country\": \"Iceland\", \"Budget\": 0.0, \"id\": 352, \"bools\": true}, {\"Year\": 2019, \"Country\": \"Ireland\", \"Budget\": 1112.7407075682938, \"id\": 372, \"bools\": true}, {\"Year\": 2019, \"Country\": \"Italy\", \"Budget\": 26380.67398119122, \"id\": 380, \"bools\": false}, {\"Year\": 2019, \"Country\": \"Luxembourg\", \"Budget\": 428.7694028761685, \"id\": 442, \"bools\": true}, {\"Year\": 2019, \"Country\": \"Malta\", \"Budget\": 83.63636363636364, \"id\": 470, \"bools\": true}, {\"Year\": 2019, \"Country\": \"Netherlands\", \"Budget\": 12000.671742051052, \"id\": 528, \"bools\": true}, {\"Year\": 2019, \"Country\": \"Norway\", \"Budget\": 7520.413965654499, \"id\": 578, \"bools\": true}, {\"Year\": 2019, \"Country\": \"Portugal\", \"Budget\": 4277.877295118675, \"id\": 620, \"bools\": true}, {\"Year\": 2019, \"Country\": \"Spain\", \"Budget\": 17189.319301388266, \"id\": 724, \"bools\": false}, {\"Year\": 2019, \"Country\": \"Sweden\", \"Budget\": 5839.555790586991, \"id\": 752, \"bools\": true}, {\"Year\": 2019, \"Country\": \"Switzerland\", \"Budget\": 5113.682092555331, \"id\": 756, \"bools\": true}, {\"Year\": 2019, \"Country\": \"UK\", \"Budget\": 56856.13306600765, \"id\": 826, \"bools\": false}, {\"Year\": 2019, \"Country\": \"Bahrain\", \"Budget\": 1557.712765957447, \"id\": 48, \"bools\": true}, {\"Year\": 2019, \"Country\": \"Egypt\", \"Budget\": 3743.6714515456547, \"id\": 818, \"bools\": true}, {\"Year\": 2019, \"Country\": \"Iran\", \"Budget\": 12528.450210913432, \"id\": 364, \"bools\": true}, {\"Year\": 2019, \"Country\": \"Iraq\", \"Budget\": 7598.829335745368, \"id\": 368, \"bools\": true}, {\"Year\": 2019, \"Country\": \"Israel\", \"Budget\": 20504.3771043771, \"id\": 376, \"bools\": false}, {\"Year\": 2019, \"Country\": \"Jordan\", \"Budget\": 2032.112676056338, \"id\": 400, \"bools\": true}, {\"Year\": 2019, \"Country\": \"Kuwait\", \"Budget\": 7373.519736842106, \"id\": 414, \"bools\": true}, {\"Year\": 2019, \"Country\": \"Lebanon\", \"Budget\": 2521.246648014341, \"id\": 422, \"bools\": true}, {\"Year\": 2019, \"Country\": \"Oman\", \"Budget\": 6551.040312093627, \"id\": 512, \"bools\": true}, {\"Year\": 2019, \"Country\": \"Saudi Arabia\", \"Budget\": 61952.0, \"id\": 682, \"bools\": false}, {\"Year\": 2019, \"Country\": \"Turkey\", \"Budget\": 20603.378497272566, \"id\": 792, \"bools\": false}]}}, {\"mode\": \"vega-lite\"});\n",
       "</script>"
      ],
      "text/plain": [
       "alt.LayerChart(...)"
      ]
     },
     "execution_count": 164,
     "metadata": {},
     "output_type": "execute_result"
    }
   ],
   "source": [
    "carrier_cost = 12800\n",
    "sipri.budget_under_price(carrier_cost)"
   ]
  },
  {
   "cell_type": "code",
   "execution_count": 210,
   "id": "97cdef01",
   "metadata": {},
   "outputs": [
    {
     "name": "stdout",
     "output_type": "stream",
     "text": [
      "dict_keys(['type', 'arcs', 'id'])\n"
     ]
    }
   ],
   "source": [
    "print(data.world_110m()['objects']['countries']['geometries'][0].keys())"
   ]
  },
  {
   "cell_type": "code",
   "execution_count": 27,
   "id": "21c02387",
   "metadata": {},
   "outputs": [
    {
     "data": {
      "text/html": [
       "<div>\n",
       "<style scoped>\n",
       "    .dataframe tbody tr th:only-of-type {\n",
       "        vertical-align: middle;\n",
       "    }\n",
       "\n",
       "    .dataframe tbody tr th {\n",
       "        vertical-align: top;\n",
       "    }\n",
       "\n",
       "    .dataframe thead th {\n",
       "        text-align: right;\n",
       "    }\n",
       "</style>\n",
       "<table border=\"1\" class=\"dataframe\">\n",
       "  <thead>\n",
       "    <tr style=\"text-align: right;\">\n",
       "      <th></th>\n",
       "      <th>Year</th>\n",
       "      <th>Country</th>\n",
       "      <th>Budget</th>\n",
       "    </tr>\n",
       "  </thead>\n",
       "  <tbody>\n",
       "    <tr>\n",
       "      <th>5479</th>\n",
       "      <td>1953</td>\n",
       "      <td>Brazil</td>\n",
       "      <td>1687.227742</td>\n",
       "    </tr>\n",
       "    <tr>\n",
       "      <th>5483</th>\n",
       "      <td>1957</td>\n",
       "      <td>Brazil</td>\n",
       "      <td>2545.067114</td>\n",
       "    </tr>\n",
       "    <tr>\n",
       "      <th>5484</th>\n",
       "      <td>1958</td>\n",
       "      <td>Brazil</td>\n",
       "      <td>2547.123119</td>\n",
       "    </tr>\n",
       "    <tr>\n",
       "      <th>5485</th>\n",
       "      <td>1959</td>\n",
       "      <td>Brazil</td>\n",
       "      <td>2020.912940</td>\n",
       "    </tr>\n",
       "    <tr>\n",
       "      <th>5486</th>\n",
       "      <td>1960</td>\n",
       "      <td>Brazil</td>\n",
       "      <td>1854.855692</td>\n",
       "    </tr>\n",
       "    <tr>\n",
       "      <th>...</th>\n",
       "      <td>...</td>\n",
       "      <td>...</td>\n",
       "      <td>...</td>\n",
       "    </tr>\n",
       "    <tr>\n",
       "      <th>5542</th>\n",
       "      <td>2016</td>\n",
       "      <td>Brazil</td>\n",
       "      <td>23835.797620</td>\n",
       "    </tr>\n",
       "    <tr>\n",
       "      <th>5543</th>\n",
       "      <td>2017</td>\n",
       "      <td>Brazil</td>\n",
       "      <td>25389.543399</td>\n",
       "    </tr>\n",
       "    <tr>\n",
       "      <th>5544</th>\n",
       "      <td>2018</td>\n",
       "      <td>Brazil</td>\n",
       "      <td>27074.280490</td>\n",
       "    </tr>\n",
       "    <tr>\n",
       "      <th>5545</th>\n",
       "      <td>2019</td>\n",
       "      <td>Brazil</td>\n",
       "      <td>25906.871197</td>\n",
       "    </tr>\n",
       "    <tr>\n",
       "      <th>5546</th>\n",
       "      <td>2020</td>\n",
       "      <td>Brazil</td>\n",
       "      <td>25101.252046</td>\n",
       "    </tr>\n",
       "  </tbody>\n",
       "</table>\n",
       "<p>65 rows × 3 columns</p>\n",
       "</div>"
      ],
      "text/plain": [
       "      Year Country        Budget\n",
       "5479  1953  Brazil   1687.227742\n",
       "5483  1957  Brazil   2545.067114\n",
       "5484  1958  Brazil   2547.123119\n",
       "5485  1959  Brazil   2020.912940\n",
       "5486  1960  Brazil   1854.855692\n",
       "...    ...     ...           ...\n",
       "5542  2016  Brazil  23835.797620\n",
       "5543  2017  Brazil  25389.543399\n",
       "5544  2018  Brazil  27074.280490\n",
       "5545  2019  Brazil  25906.871197\n",
       "5546  2020  Brazil  25101.252046\n",
       "\n",
       "[65 rows x 3 columns]"
      ]
     },
     "execution_count": 27,
     "metadata": {},
     "output_type": "execute_result"
    }
   ],
   "source": [
    "df = sipri.constant_USD.df\n",
    "df.loc[df['Country'] == 'Brazil']"
   ]
  }
 ],
 "metadata": {
  "kernelspec": {
   "display_name": "Python 3",
   "language": "python",
   "name": "python3"
  },
  "language_info": {
   "codemirror_mode": {
    "name": "ipython",
    "version": 3
   },
   "file_extension": ".py",
   "mimetype": "text/x-python",
   "name": "python",
   "nbconvert_exporter": "python",
   "pygments_lexer": "ipython3",
   "version": "3.9.1"
  }
 },
 "nbformat": 4,
 "nbformat_minor": 5
}
